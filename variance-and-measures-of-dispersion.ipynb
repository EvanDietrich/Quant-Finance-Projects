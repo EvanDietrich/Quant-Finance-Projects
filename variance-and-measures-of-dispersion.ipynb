{
 "cells": [
  {
   "cell_type": "markdown",
   "metadata": {},
   "source": [
    "### Variance & Measures of Dispersion\n",
    "\n",
    "Dispersion measures how spread out our dataset is. One way risk is measured is by how spread out historically returns have been. Returns very tight around a central value give us less reason to worry. "
   ]
  },
  {
   "cell_type": "code",
   "execution_count": 29,
   "metadata": {},
   "outputs": [],
   "source": [
    "import yfinance as yf\n",
    "import requests\n",
    "import datetime\n",
    "import numpy as np\n",
    "import matplotlib.pyplot as plt\n",
    "from pandas_datareader import data as pdr\n",
    "from matplotlib import style\n",
    "from math import pi\n",
    "yf.pdr_override()"
   ]
  },
  {
   "cell_type": "code",
   "execution_count": 23,
   "metadata": {},
   "outputs": [
    {
     "name": "stdout",
     "output_type": "stream",
     "text": [
      "[*********************100%***********************]  1 of 1 completed\n",
      "[*********************100%***********************]  1 of 1 completed\n",
      "[*********************100%***********************]  1 of 1 completed\n",
      "[*********************100%***********************]  1 of 1 completed\n",
      "[*********************100%***********************]  1 of 1 completed\n",
      "[*********************100%***********************]  1 of 1 completed\n",
      "[*********************100%***********************]  1 of 1 completed\n",
      "[*********************100%***********************]  1 of 1 completed\n",
      "[*********************100%***********************]  1 of 1 completed\n",
      "[*********************100%***********************]  1 of 1 completed\n",
      "[*********************100%***********************]  1 of 1 completed\n"
     ]
    }
   ],
   "source": [
    "tickers = ['BSX', 'CMCSA', 'F', 'HAL', 'JNJ', 'MET', 'NFLX', 'PEP', 'DGX', 'SYK', 'UAA']\n",
    "tickerset = {}\n",
    "for ticker in tickers:\n",
    "    # df is of type <class 'pandas.core.frame.DataFrame'>\n",
    "    df = pdr.get_data_yahoo(ticker, start=\"2020-01-01\", end=\"2020-06-01\", interval = \"1d\")\n",
    "    tickerset[ticker] = df['Adj Close']"
   ]
  },
  {
   "cell_type": "code",
   "execution_count": 33,
   "metadata": {},
   "outputs": [
    {
     "name": "stdout",
     "output_type": "stream",
     "text": [
      "Mean of BSX: \n",
      "37.773398130842786\n",
      "Range of BSX: \n",
      "19.8799991607666\n",
      "\n",
      "\n",
      "Mean of CMCSA: \n",
      "39.978268965934085\n",
      "Range of CMCSA: \n",
      "14.772167205810547\n",
      "\n",
      "\n",
      "Mean of F: \n",
      "6.509486689150912\n",
      "Range of F: \n",
      "5.252474784851074\n",
      "\n",
      "\n",
      "Mean of HAL: \n",
      "14.107913938540857\n",
      "Range of HAL: \n",
      "20.437922954559326\n",
      "\n",
      "\n",
      "Mean of JNJ: \n",
      "142.57783389785914\n",
      "Range of JNJ: \n",
      "44.06452941894531\n",
      "\n",
      "\n",
      "Mean of MET: \n",
      "39.33859604770697\n",
      "Range of MET: \n",
      "28.536226272583008\n",
      "\n",
      "\n",
      "Mean of NFLX: \n",
      "379.5203878161977\n",
      "Range of NFLX: \n",
      "155.35000610351562\n",
      "\n",
      "\n",
      "Mean of PEP: \n",
      "132.48164997286008\n",
      "Range of PEP: \n",
      "41.750091552734375\n",
      "\n",
      "\n",
      "Mean of DGX: \n",
      "102.48386753415599\n",
      "Range of DGX: \n",
      "45.5\n",
      "\n",
      "\n",
      "Mean of SYK: \n",
      "189.42214447317772\n",
      "Range of SYK: \n",
      "98.24392700195312\n",
      "\n",
      "\n",
      "Mean of UAA: \n",
      "13.352815632681244\n",
      "Range of UAA: \n",
      "14.140000343322754\n",
      "\n",
      "\n"
     ]
    }
   ],
   "source": [
    "for ticker in tickerset:\n",
    "    mu = np.mean(tickerset[ticker])\n",
    "    print('Mean of ' + ticker + ': ')\n",
    "    print(mu)\n",
    "    range = np.ptp(tickerset[ticker])\n",
    "    print('Range of ' + ticker + ': ')\n",
    "    print(range)\n",
    "    print('\\n')"
   ]
  },
  {
   "cell_type": "code",
   "execution_count": null,
   "metadata": {},
   "outputs": [],
   "source": []
  },
  {
   "cell_type": "code",
   "execution_count": null,
   "metadata": {},
   "outputs": [],
   "source": []
  }
 ],
 "metadata": {
  "kernelspec": {
   "display_name": "Python 3",
   "language": "python",
   "name": "python3"
  },
  "language_info": {
   "codemirror_mode": {
    "name": "ipython",
    "version": 3
   },
   "file_extension": ".py",
   "mimetype": "text/x-python",
   "name": "python",
   "nbconvert_exporter": "python",
   "pygments_lexer": "ipython3",
   "version": "3.7.3"
  }
 },
 "nbformat": 4,
 "nbformat_minor": 2
}
