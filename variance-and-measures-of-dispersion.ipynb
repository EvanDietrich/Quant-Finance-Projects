{
 "cells": [
  {
   "cell_type": "markdown",
   "metadata": {},
   "source": [
    "## Variance & Measures of Dispersion\n",
    "\n",
    "Dispersion measures how spread out our dataset is. One way risk is measured is by how spread out historically returns have been. Returns very tight around a central value give us less reason to worry. "
   ]
  },
  {
   "cell_type": "code",
   "execution_count": 72,
   "metadata": {},
   "outputs": [],
   "source": [
    "import yfinance as yf\n",
    "import requests\n",
    "import datetime\n",
    "import numpy as np\n",
    "import matplotlib.pyplot as plt\n",
    "from pandas_datareader import data as pdr\n",
    "from matplotlib import style\n",
    "from math import pi\n",
    "yf.pdr_override()"
   ]
  },
  {
   "cell_type": "code",
   "execution_count": 73,
   "metadata": {},
   "outputs": [
    {
     "name": "stdout",
     "output_type": "stream",
     "text": [
      "[*********************100%***********************]  1 of 1 completed\n",
      "[*********************100%***********************]  1 of 1 completed\n",
      "[*********************100%***********************]  1 of 1 completed\n"
     ]
    }
   ],
   "source": [
    "tickers = ['BSX', 'CMCSA', 'NFLX']\n",
    "# tickers = ['BSX', 'CMCSA', 'F', 'HAL', 'JNJ', 'MET', 'NFLX', 'PEP', 'DGX', 'SYK', 'UAA']\n",
    "tickerset = {}\n",
    "for ticker in tickers:\n",
    "    # df is of type <class 'pandas.core.frame.DataFrame'>\n",
    "    df = pdr.get_data_yahoo(ticker, start=\"2020-01-01\", end=\"2020-06-01\", interval = \"1d\")\n",
    "    tickerset[ticker] = df['Adj Close']"
   ]
  },
  {
   "cell_type": "markdown",
   "metadata": {},
   "source": [
    "### Initial Calculations\n",
    "Mean/Range: Trivial to define.\n",
    "\n",
    "Mean Absolute Derivation (MAD): Average of the distances of observations from the arithmetic mean."
   ]
  },
  {
   "cell_type": "code",
   "execution_count": 74,
   "metadata": {},
   "outputs": [
    {
     "name": "stdout",
     "output_type": "stream",
     "text": [
      "NFLX\n",
      "Mean: 379.5203878161977\n",
      "Range: 155.35000610351562\n",
      "MAD: 32.896367643609636\n"
     ]
    }
   ],
   "source": [
    "sample_ticker = 'NFLX'\n",
    "X = tickerset[sample_ticker]\n",
    "print(sample_ticker)\n",
    "\n",
    "mu = np.mean(X)\n",
    "print('Mean: ' + str(mu))\n",
    "\n",
    "## \"peak-to-peak\"\n",
    "range = np.ptp(X)\n",
    "print('Range: ' + str(range))\n",
    "\n",
    "abs_dispersion = [np.abs(mu - x) for x in X]\n",
    "MAD = np.sum(abs_dispersion)/len(abs_dispersion)\n",
    "print ('MAD:', MAD)"
   ]
  },
  {
   "cell_type": "markdown",
   "metadata": {},
   "source": [
    "### Variance & Std. Deviation\n",
    "\n",
    "Variance (&sigma;<sup>2</sup>) : The average of the squared deviations around the mean\n",
    "\n",
    "Standard deviation: Square root of the variance"
   ]
  },
  {
   "cell_type": "code",
   "execution_count": 75,
   "metadata": {},
   "outputs": [
    {
     "name": "stdout",
     "output_type": "stream",
     "text": [
      "Variance of X: 1517.5312504991396\n",
      "Standard deviation of X: 38.95550346869027\n"
     ]
    }
   ],
   "source": [
    "print('Variance of X:', np.var(X))\n",
    "print('Standard deviation of X:', np.std(X))"
   ]
  },
  {
   "cell_type": "markdown",
   "metadata": {},
   "source": [
    "### Confirming Chebyshev's Inequality\n",
    "\n",
    "The proportion of samples within k standard deviations (that is, within a distance of  k ⋅  standard deviation) of the mean is at least  1 − 1/k<sup>2</sup>  for all  k > 1.\n",
    "\n",
    "This bound is rarely strict, but it is useful because it holds for all data sets and distributions."
   ]
  },
  {
   "cell_type": "code",
   "execution_count": 76,
   "metadata": {},
   "outputs": [
    {
     "name": "stdout",
     "output_type": "stream",
     "text": [
      "Observations within 1.25 stds of mean: 78\n",
      "Confirming that 0.7572815533980582 > 0.36\n"
     ]
    }
   ],
   "source": [
    "k = 1.25\n",
    "dist = k*np.std(X)\n",
    "l = [x for x in X if abs(x - mu) <= dist]\n",
    "print ('Observations within', k, 'stds of mean:', len(l))\n",
    "print ('Confirming that', float(len(l))/len(X), '>', 1 - 1/k**2)"
   ]
  },
  {
   "cell_type": "markdown",
   "metadata": {},
   "source": [
    "### Semivariance & Semideviation\n",
    "\n",
    "Variance and standard deviation tell us how volatile a quantity is, but do not differentiate between deviations upward and deviations downward. \n",
    "\n",
    "In the case of returns on an asset, we are more worried about deviations downward. This is addressed by semivariance and semideviation, which only count the observations that fall below the mean."
   ]
  },
  {
   "cell_type": "code",
   "execution_count": 77,
   "metadata": {},
   "outputs": [
    {
     "name": "stdout",
     "output_type": "stream",
     "text": [
      "Semivariance of X: 1165.010429549552\n",
      "Semideviation of X: 34.132249113551715\n"
     ]
    }
   ],
   "source": [
    "# No built-in semideviation\n",
    "lows = [e for e in X if e <= mu]\n",
    "\n",
    "semivar = np.sum( (lows - mu) ** 2 ) / len(lows)\n",
    "\n",
    "print('Semivariance of X:', semivar)\n",
    "print('Semideviation of X:', np.sqrt(semivar))"
   ]
  },
  {
   "cell_type": "markdown",
   "metadata": {},
   "source": [
    "#### A Related Notion\n",
    "\n",
    "Target semivariance (and target semideviation)... used to average the distance from a target of values which fall below that target:"
   ]
  },
  {
   "cell_type": "code",
   "execution_count": 78,
   "metadata": {},
   "outputs": [
    {
     "name": "stdout",
     "output_type": "stream",
     "text": [
      "Target semivariance of X: 192.30504586489405\n",
      "Target semideviation of X: 13.867409486450383\n"
     ]
    }
   ],
   "source": [
    "B = 330\n",
    "lows_B = [e for e in X if e <= B]\n",
    "semivar_B = sum(map(lambda x: (x - B)**2,lows_B))/len(lows_B)\n",
    "\n",
    "print('Target semivariance of X:', semivar_B)\n",
    "print('Target semideviation of X:', np.sqrt(semivar_B))"
   ]
  },
  {
   "cell_type": "markdown",
   "metadata": {},
   "source": [
    "### Closing\n",
    "\n",
    "These computations will give sample statistics, that is, standard deviation of a sample of data. Whether or not this reflects the current true population standard deviation is not always obvious, and more effort has to be put into determining that. This can be problematic in finance as all data are time series, and the mean and variance may change over time. Different techniques and subtleties can be implemented to counter this."
   ]
  }
 ],
 "metadata": {
  "kernelspec": {
   "display_name": "Python 3",
   "language": "python",
   "name": "python3"
  },
  "language_info": {
   "codemirror_mode": {
    "name": "ipython",
    "version": 3
   },
   "file_extension": ".py",
   "mimetype": "text/x-python",
   "name": "python",
   "nbconvert_exporter": "python",
   "pygments_lexer": "ipython3",
   "version": "3.7.3"
  }
 },
 "nbformat": 4,
 "nbformat_minor": 2
}
