{
 "cells": [
  {
   "cell_type": "markdown",
   "metadata": {},
   "source": [
    "## Introduction to Volume, Slippage, and Liquidity\n",
    "\n",
    "### What is Volume?\n",
    "Volume is how much trading occurs for a given instrument, or set of instruments, over a given time period. \n",
    "\n",
    "#### Example Volume Computation\n",
    "For instance, consider a hypothetical equity asset $A$. If, over the course of a minute, $100,000$ shares of $A$ are bought, then the shares traded volume of $A$ is $100,000$. To find the dollar volume traded for $A$, which is the more often-used statistic, we need to take a weighted average of all the different prices $A$ traded for over the minute times the number of shares that traded at each price. This is equivalent to adding up the dollar volumes of all the individual trasnactions that occured. For instance, let's say in this case there were there separate transactions. One for 30,000 shares, one for $60,000$ shares, and one for $10,000$ shares. The prices were $30$ USD, $31$ USD, and $33$ USD, respectively. Let's model this out."
   ]
  },
  {
   "cell_type": "code",
   "execution_count": 1,
   "metadata": {},
   "outputs": [],
   "source": [
    "import numpy as np\n",
    "import pandas as pd\n",
    "import matplotlib.pyplot as plt\n",
    "\n",
    "import yfinance as yf\n",
    "from pandas_datareader import data as pdr"
   ]
  },
  {
   "cell_type": "code",
   "execution_count": null,
   "metadata": {},
   "outputs": [],
   "source": [
    "num_shares = np.asarray([30000, 60000, 10000])\n",
    "prices = np.asarray([30, 31, 33])\n",
    "\n",
    "np.dot(num_shares, prices)"
   ]
  },
  {
   "cell_type": "markdown",
   "metadata": {},
   "source": [
    "So total dollar volume is $3.09$ million USD. Notice that this is equivalent to taking the dollar volume averaged price and multiplying by the number of shares traded over that bar."
   ]
  },
  {
   "cell_type": "code",
   "execution_count": null,
   "metadata": {},
   "outputs": [],
   "source": [
    "# Get the average trade price\n",
    "print(\"Average trade price: %s\" % (np.mean(prices)))\n",
    "\n",
    "# Get the volume weighted average\n",
    "vw = np.dot(num_shares, prices) / float(np.sum(num_shares))\n",
    "print(\"Volume weighted average trade price: %s\" % (vw))\n",
    "\n",
    "# Go back to volume\n",
    "v = vw * np.sum(num_shares)\n",
    "print(\"Volume: %s\" % (v))"
   ]
  },
  {
   "cell_type": "markdown",
   "metadata": {},
   "source": [
    "Often in real datasets you will be given averaged or 'last traded' data rather than individual trades. With averaged data, some average is taken over a bar (time period). With last traded data, only the final observation from that bar is reported. It is important to know if the data is averaged, volume averaged, or simply last traded. All of these will need to be treated differently.\n",
    "\n",
    "For pricing data, Quantopian currently (as of April 2017) provides the last traded prices at a minute resolution. The volume is the sum of all volume in that bar. While we do not offer minutely volume-weighted price, daily volume-weighted price can be approximated from the minute bars.\n",
    "\n",
    "Let's look at some volume data."
   ]
  },
  {
   "cell_type": "code",
   "execution_count": null,
   "metadata": {},
   "outputs": [],
   "source": [
    "start_date='2015-06-01'\n",
    "end_date='2015-06-08'\n",
    "data = pdr.get_data_yahoo('SPY', start=start_date, end=end_date, interval = \"1m\")"
   ]
  },
  {
   "cell_type": "code",
   "execution_count": null,
   "metadata": {},
   "outputs": [],
   "source": [
    "data = yf.download(tickers = \"NVDA\", start=start_date, end=end_date, interval = \"1m\")"
   ]
  },
  {
   "cell_type": "code",
   "execution_count": 2,
   "metadata": {},
   "outputs": [],
   "source": [
    "data = pdr.get_data_yahoo(\"SPY\", start=\"2017-06-01\", end=\"2017-06-06\", interval = \"1m\")"
   ]
  },
  {
   "cell_type": "code",
   "execution_count": 3,
   "metadata": {},
   "outputs": [
    {
     "name": "stdout",
     "output_type": "stream",
     "text": [
      "                  High         Low        Open       Close    Volume  \\\n",
      "Date                                                                   \n",
      "2017-06-01  243.380005  241.639999  241.970001  243.360001  68962000   \n",
      "2017-06-02  244.350006  243.080002  243.419998  244.169998  88666100   \n",
      "2017-06-05  244.300003  243.759995  243.970001  243.990005  44698800   \n",
      "2017-06-06  243.979996  243.119995  243.339996  243.210007  50375400   \n",
      "\n",
      "             Adj Close  \n",
      "Date                    \n",
      "2017-06-01  229.565781  \n",
      "2017-06-02  230.329880  \n",
      "2017-06-05  230.160095  \n",
      "2017-06-06  229.424271  \n"
     ]
    }
   ],
   "source": [
    "# data.head()\n",
    "print(data)"
   ]
  },
  {
   "cell_type": "code",
   "execution_count": null,
   "metadata": {},
   "outputs": [],
   "source": []
  },
  {
   "cell_type": "code",
   "execution_count": null,
   "metadata": {},
   "outputs": [],
   "source": []
  }
 ],
 "metadata": {
  "kernelspec": {
   "display_name": "Python 3",
   "language": "python",
   "name": "python3"
  },
  "language_info": {
   "codemirror_mode": {
    "name": "ipython",
    "version": 3
   },
   "file_extension": ".py",
   "mimetype": "text/x-python",
   "name": "python",
   "nbconvert_exporter": "python",
   "pygments_lexer": "ipython3",
   "version": "3.7.3"
  }
 },
 "nbformat": 4,
 "nbformat_minor": 2
}
