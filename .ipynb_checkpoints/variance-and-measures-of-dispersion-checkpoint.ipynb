{
 "cells": [
  {
   "cell_type": "markdown",
   "metadata": {},
   "source": [
    "### Variance & Measures of Dispersion\n",
    "\n",
    "Dispersion measures how spread out a set of data is. One way risk is measured is by how spread out historically returns have been. Returns very tight around a central value, gives less reason to worry. "
   ]
  },
  {
   "cell_type": "code",
   "execution_count": 2,
   "metadata": {},
   "outputs": [],
   "source": [
    "import yfinance as yf\n",
    "import requests\n",
    "import datetime\n",
    "from pandas_datareader import data as pdr\n",
    "import matplotlib.pyplot as plt\n",
    "from matplotlib import style\n",
    "from math import pi"
   ]
  },
  {
   "cell_type": "markdown",
   "metadata": {},
   "source": [
    "imports/libraries ^"
   ]
  },
  {
   "cell_type": "code",
   "execution_count": 3,
   "metadata": {},
   "outputs": [
    {
     "ename": "NameError",
     "evalue": "name 'BA' is not defined",
     "output_type": "error",
     "traceback": [
      "\u001b[0;31m---------------------------------------------------------------------------\u001b[0m",
      "\u001b[0;31mNameError\u001b[0m                                 Traceback (most recent call last)",
      "\u001b[0;32m<ipython-input-3-b336445533e7>\u001b[0m in \u001b[0;36m<module>\u001b[0;34m\u001b[0m\n\u001b[1;32m      1\u001b[0m \u001b[0myf\u001b[0m\u001b[0;34m.\u001b[0m\u001b[0mpdr_override\u001b[0m\u001b[0;34m(\u001b[0m\u001b[0;34m)\u001b[0m\u001b[0;34m\u001b[0m\u001b[0;34m\u001b[0m\u001b[0m\n\u001b[1;32m      2\u001b[0m \u001b[0;34m\u001b[0m\u001b[0m\n\u001b[0;32m----> 3\u001b[0;31m \u001b[0mtickerset\u001b[0m \u001b[0;34m=\u001b[0m \u001b[0;34m{\u001b[0m\u001b[0mBA\u001b[0m\u001b[0;34m,\u001b[0m \u001b[0mBSX\u001b[0m\u001b[0;34m,\u001b[0m \u001b[0mCMCSA\u001b[0m\u001b[0;34m,\u001b[0m \u001b[0mF\u001b[0m\u001b[0;34m,\u001b[0m \u001b[0mHAL\u001b[0m\u001b[0;34m,\u001b[0m \u001b[0mINTC\u001b[0m\u001b[0;34m,\u001b[0m \u001b[0mJNJ\u001b[0m\u001b[0;34m,\u001b[0m \u001b[0mMET\u001b[0m\u001b[0;34m,\u001b[0m \u001b[0mNFLX\u001b[0m\u001b[0;34m,\u001b[0m \u001b[0mPEP\u001b[0m\u001b[0;34m,\u001b[0m \u001b[0mDGX\u001b[0m\u001b[0;34m,\u001b[0m \u001b[0mSYK\u001b[0m\u001b[0;34m,\u001b[0m \u001b[0mUAA\u001b[0m\u001b[0;34m}\u001b[0m\u001b[0;34m\u001b[0m\u001b[0;34m\u001b[0m\u001b[0m\n\u001b[0m\u001b[1;32m      4\u001b[0m \u001b[0;34m\u001b[0m\u001b[0m\n\u001b[1;32m      5\u001b[0m \u001b[0;32mfor\u001b[0m \u001b[0mticker\u001b[0m \u001b[0;32min\u001b[0m \u001b[0mtickerset\u001b[0m\u001b[0;34m:\u001b[0m\u001b[0;34m\u001b[0m\u001b[0;34m\u001b[0m\u001b[0m\n",
      "\u001b[0;31mNameError\u001b[0m: name 'BA' is not defined"
     ]
    }
   ],
   "source": [
    "yf.pdr_override()\n",
    "\n",
    "tickerset = {'BSX', 'CMCSA', 'F', 'HAL', 'JNJ', 'MET', 'NFLX', 'PEP', 'DGX', 'SYK', 'UAA'}\n",
    "\n",
    "for ticker in tickerset:\n",
    "    ticker[pdr.get_data_yahoo(stock_name, start=\"2020-01-01\", end=\"2020-06-01\", interval = \"1d\")]\n",
    "# <class 'pandas.core.frame.DataFrame'>\n",
    "\n"
   ]
  },
  {
   "cell_type": "code",
   "execution_count": null,
   "metadata": {},
   "outputs": [],
   "source": []
  }
 ],
 "metadata": {
  "kernelspec": {
   "display_name": "Python 3",
   "language": "python",
   "name": "python3"
  },
  "language_info": {
   "codemirror_mode": {
    "name": "ipython",
    "version": 3
   },
   "file_extension": ".py",
   "mimetype": "text/x-python",
   "name": "python",
   "nbconvert_exporter": "python",
   "pygments_lexer": "ipython3",
   "version": "3.7.3"
  }
 },
 "nbformat": 4,
 "nbformat_minor": 2
}
