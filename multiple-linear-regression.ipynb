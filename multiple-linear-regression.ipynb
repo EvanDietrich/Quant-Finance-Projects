{
 "cells": [
  {
   "cell_type": "markdown",
   "metadata": {},
   "source": [
    "## Multiple Linear Regression\n",
    "\n",
    "Probably the single most used technique in modern quantitative finance. \n",
    "\n",
    "Multiple linear regression is just like single linear regression, except you can use many variables to predict one outcome and measure the relative contributions of each. \n"
   ]
  },
  {
   "cell_type": "code",
   "execution_count": 1,
   "metadata": {},
   "outputs": [],
   "source": [
    "import yfinance as yf\n",
    "import numpy as np\n",
    "import matplotlib.pyplot as plt\n",
    "import pandas as pd\n",
    "import statsmodels.api as sm\n",
    "\n",
    "from pandas_datareader import data as pdr\n",
    "from statsmodels import regression\n",
    "\n",
    "\n",
    "yf.pdr_override()"
   ]
  },
  {
   "cell_type": "markdown",
   "metadata": {},
   "source": [
    "Multiple linear regression generalizes linear regression, allowing the dependent variable to be a linear function of multiple independent variables. As before, we assume that the variable $Y$ is a linear function of $X_1,\\ldots, X_k$:\n",
    "\n",
    "$$ Y_i = \\beta_0 + \\beta_1 X_{1i} + \\ldots + \\beta_k X_{ki} + \\epsilon_i $$\n",
    "\n",
    "Often in finance the form will be written as follows, but it is just the variable name that changes and otherwise the model is identical.\n",
    "\n",
    "$$ Y_i = \\alpha + \\beta_1 X_{1i} + \\ldots + \\beta_k X_{ki} + \\epsilon_i $$\n",
    "\n",
    "For observations $i = 1,2,\\ldots, n$. In order to find the plane (or hyperplane) of best fit, we will use the method of ordinary least-squares (OLS), which seeks to minimize the squared error between predictions and observations, $\\sum_{i=1}^n \\epsilon_i^2$. The square makes positive and negative errors equally bad, and magnifies large errors. It also makes the closed form math behind linear regression nice, but we won't go into that now. For an example of squared error, see the following.\n",
    "\n",
    "Let's say Y is our actual data, and Y_hat is the predictions made by linear regression."
   ]
  },
  {
   "cell_type": "code",
   "execution_count": 2,
   "metadata": {},
   "outputs": [
    {
     "name": "stdout",
     "output_type": "stream",
     "text": [
      "Error [ 0.  -0.5  1.  -1.  -3. ]\n",
      "Squared Error [0.   0.25 1.   1.   9.  ]\n",
      "Sum Squared Error 11.25\n"
     ]
    }
   ],
   "source": [
    "Y = np.array([1, 3.5, 4, 8, 12])\n",
    "Y_hat = np.array([1, 3, 5, 7, 9])\n",
    "\n",
    "print('Error ' + str(Y_hat - Y))\n",
    "\n",
    "# Compute squared error\n",
    "SE = (Y_hat - Y) ** 2\n",
    "\n",
    "print('Squared Error ' + str(SE))\n",
    "print('Sum Squared Error ' + str(np.sum(SE)))"
   ]
  },
  {
   "cell_type": "markdown",
   "metadata": {},
   "source": [
    "Once we have used this method to determine the coefficients of the regression, we will be able to use new observed values of $X$ to predict values of $Y$. \n",
    "\n",
    "Each coefficient $\\beta_j$ tells us how much $Y_i$ will change if we change $X_j$ by one while holding all of the other dependent variables constant. This lets us separate out the contributions of different effects. This is assuming the linear model is the correct one.\n",
    "\n",
    "We start by artificially constructing a $Y$, $X_1$, and $X_2$ in which we know the precise relationship."
   ]
  },
  {
   "cell_type": "code",
   "execution_count": 3,
   "metadata": {},
   "outputs": [
    {
     "data": {
      "image/png": "[encoded data removed]",
      "text/plain": [
       "<Figure size 432x288 with 1 Axes>"
      ]
     },
     "metadata": {
      "needs_background": "light"
     },
     "output_type": "display_data"
    }
   ],
   "source": [
    "# Construct a simple linear curve of 1, 2, 3, ...\n",
    "X1 = np.arange(100)\n",
    "\n",
    "# Make a parabola and add X1 to it, this is X2\n",
    "X2 = np.array([i ** 2 for i in range(100)]) + X1\n",
    "\n",
    "# This is our real Y, constructed using a linear combination of X1 and X2\n",
    "Y = X1 + X2\n",
    "\n",
    "plt.plot(X1, label='X1')\n",
    "plt.plot(X2, label='X2')\n",
    "plt.plot(Y, label='Y')\n",
    "plt.legend();"
   ]
  },
  {
   "cell_type": "markdown",
   "metadata": {},
   "source": [
    "We can use the same function from `statsmodels` as we did for a single linear regression lecture."
   ]
  },
  {
   "cell_type": "code",
   "execution_count": 4,
   "metadata": {},
   "outputs": [
    {
     "name": "stdout",
     "output_type": "stream",
     "text": [
      "Beta_0: 2.5579538487363607e-13\n",
      "Beta_1: 1.0000000000004086\n",
      "Beta_2: 0.9999999999999942\n"
     ]
    }
   ],
   "source": [
    "# Use column_stack to combine independent variables, then add a column of ones so we can fit an intercept\n",
    "X = sm.add_constant( np.column_stack( (X1, X2) ) )\n",
    "\n",
    "# Run the model\n",
    "results = regression.linear_model.OLS(Y, X).fit()\n",
    "\n",
    "print('Beta_0:', results.params[0])\n",
    "print('Beta_1:', results.params[1])\n",
    "print('Beta_2:', results.params[2])"
   ]
  },
  {
   "cell_type": "markdown",
   "metadata": {},
   "source": [
    "The same care must be taken with these results as with partial derivatives. The formula for $Y$ is ostensibly \n",
    "\n",
    "$$X_1 + X_2 = X_1 + X^2 + X_1 = 2 X_1 + X^2$$\n",
    "\n",
    "Or $2X_1$ plus a parabola.\n",
    "\n",
    "However, the coefficient of $X_1$ is 1. That is because $Y$ changes by 1 if we change $X_1$ by 1 <i>while holding $X_2$ constant</i>. Multiple linear regression separates out contributions from different variables.\n",
    "\n",
    "Similarly, running a linear regression on two securities might give a high $\\beta$. However, if we bring in a third security (like SPY, which tracks the S&P 500) as an independent variable, we may find that the correlation between the first two securities is almost entirely due to them both being correlated with the S&P 500. This is useful because the S&P 500 may then be a more reliable predictor of both securities than they were of each other. This method allows us to better gauge the significance between the two securities and prevent confounding the two variables."
   ]
  },
  {
   "cell_type": "code",
   "execution_count": 5,
   "metadata": {},
   "outputs": [
    {
     "name": "stdout",
     "output_type": "stream",
     "text": [
      "[*********************100%***********************]  1 of 1 completed\n",
      "[*********************100%***********************]  1 of 1 completed\n",
      "[*********************100%***********************]  1 of 1 completed\n",
      "SLR beta of asset2: -1.1982315073849126\n"
     ]
    },
    {
     "name": "stderr",
     "output_type": "stream",
     "text": [
      "/usr/local/lib/python3.7/site-packages/numpy/core/fromnumeric.py:2389: FutureWarning: Method .ptp is deprecated and will be removed in a future version. Use numpy.ptp instead.\n",
      "  return ptp(axis=axis, out=out, **kwargs)\n"
     ]
    }
   ],
   "source": [
    "# Load pricing data for two arbitrarily-chosen assets and SPY\n",
    "start_date = '2014-01-01'\n",
    "end_date = '2015-01-01'\n",
    "asset1 = pdr.get_data_yahoo('BBI', start=start_date, end=end_date, interval = \"1d\")['Adj Close']\n",
    "asset2 = pdr.get_data_yahoo('FARM', start=start_date, end=end_date, interval = \"1d\")['Adj Close']\n",
    "benchmark = pdr.get_data_yahoo('SPY', start=start_date, end=end_date, interval = \"1d\")['Adj Close']\n",
    "\n",
    "# First, run a linear regression on the two assets\n",
    "slr = regression.linear_model.OLS(asset1, sm.add_constant(asset2)).fit()\n",
    "print('SLR beta of asset2:', slr.params[1])"
   ]
  },
  {
   "cell_type": "code",
   "execution_count": 6,
   "metadata": {},
   "outputs": [
    {
     "name": "stdout",
     "output_type": "stream",
     "text": [
      "MLR beta of asset2: -0.03602224186854651 \n",
      "MLR beta of S&P 500: -0.730501445742465\n"
     ]
    }
   ],
   "source": [
    "# Run multiple linear regression using asset2 and SPY as independent variables\n",
    "mlr = regression.linear_model.OLS(asset1, sm.add_constant(np.column_stack((asset2, benchmark)))).fit()\n",
    "\n",
    "prediction = mlr.params[0] + mlr.params[1]*asset2 + mlr.params[2]*benchmark\n",
    "prediction.name = 'Prediction'\n",
    "\n",
    "print('MLR beta of asset2:', mlr.params[1], '\\nMLR beta of S&P 500:', mlr.params[2])"
   ]
  },
  {
   "cell_type": "markdown",
   "metadata": {},
   "source": [
    "The next step after running an analysis is determining if we can even trust the results. A good first step is checking to see if anything looks weird in graphs of the independent variables, dependent variables, and predictions."
   ]
  },
  {
   "cell_type": "code",
   "execution_count": 7,
   "metadata": {},
   "outputs": [
    {
     "name": "stdout",
     "output_type": "stream",
     "text": [
      "Brickell Biotech Inc. ending with:\n",
      "73.5\n",
      "Farmer Bros. Co. ending with:\n",
      "29.450000762939453\n",
      "SPY ending with:\n",
      "185.170166015625\n"
     ]
    },
    {
     "data": {
      "image/png": "[encoded data removed]",
      "text/plain": [
       "<Figure size 432x288 with 1 Axes>"
      ]
     },
     "metadata": {
      "needs_background": "light"
     },
     "output_type": "display_data"
    }
   ],
   "source": [
    "# Plot the three variables along with the prediction given by the MLR\n",
    "\n",
    "print('Brickell Biotech Inc. ending with:')\n",
    "print(asset1[-1])\n",
    "\n",
    "print('Farmer Bros. Co. ending with:')\n",
    "print(asset2[-1])\n",
    "\n",
    "print('SPY ending with:')\n",
    "print(benchmark[-1])\n",
    "\n",
    "asset1.plot()\n",
    "asset2.plot()\n",
    "benchmark.plot()\n",
    "prediction.plot(color='y')\n",
    "plt.xlabel('Price')\n",
    "plt.legend(bbox_to_anchor=(1,1), loc=2);"
   ]
  },
  {
   "cell_type": "code",
   "execution_count": 8,
   "metadata": {},
   "outputs": [
    {
     "name": "stdout",
     "output_type": "stream",
     "text": [
      "Brickell Biotech Inc. ending with:\n",
      "73.5\n"
     ]
    },
    {
     "data": {
      "image/png": "[encoded data removed]",
      "text/plain": [
       "<Figure size 432x288 with 1 Axes>"
      ]
     },
     "metadata": {
      "needs_background": "light"
     },
     "output_type": "display_data"
    }
   ],
   "source": [
    "# Plot only the dependent variable and the prediction to get a closer look\n",
    "\n",
    "print('Brickell Biotech Inc. ending with:')\n",
    "print(asset1[-1])\n",
    "\n",
    "asset1.plot()\n",
    "prediction.plot(color='y')\n",
    "plt.xlabel('Price')\n",
    "plt.legend();"
   ]
  },
  {
   "cell_type": "markdown",
   "metadata": {},
   "source": [
    "## Evaluation\n",
    "\n",
    "We can get some statistics about the fit from the result returned by the regression:"
   ]
  },
  {
   "cell_type": "code",
   "execution_count": 9,
   "metadata": {},
   "outputs": [
    {
     "data": {
      "text/html": [
       "<table class=\"simpletable\">\n",
       "<caption>OLS Regression Results</caption>\n",
       "<tr>\n",
       "  <th>Dep. Variable:</th>        <td>Adj Close</td>    <th>  R-squared:         </th> <td>   0.412</td>\n",
       "</tr>\n",
       "<tr>\n",
       "  <th>Model:</th>                   <td>OLS</td>       <th>  Adj. R-squared:    </th> <td>   0.407</td>\n",
       "</tr>\n",
       "<tr>\n",
       "  <th>Method:</th>             <td>Least Squares</td>  <th>  F-statistic:       </th> <td>   87.24</td>\n",
       "</tr>\n",
       "<tr>\n",
       "  <th>Date:</th>             <td>Mon, 08 Jun 2020</td> <th>  Prob (F-statistic):</th> <td>1.93e-29</td>\n",
       "</tr>\n",
       "<tr>\n",
       "  <th>Time:</th>                 <td>17:03:07</td>     <th>  Log-Likelihood:    </th> <td> -849.62</td>\n",
       "</tr>\n",
       "<tr>\n",
       "  <th>No. Observations:</th>      <td>   252</td>      <th>  AIC:               </th> <td>   1705.</td>\n",
       "</tr>\n",
       "<tr>\n",
       "  <th>Df Residuals:</th>          <td>   249</td>      <th>  BIC:               </th> <td>   1716.</td>\n",
       "</tr>\n",
       "<tr>\n",
       "  <th>Df Model:</th>              <td>     2</td>      <th>                     </th>     <td> </td>   \n",
       "</tr>\n",
       "<tr>\n",
       "  <th>Covariance Type:</th>      <td>nonrobust</td>    <th>                     </th>     <td> </td>   \n",
       "</tr>\n",
       "</table>\n",
       "<table class=\"simpletable\">\n",
       "<tr>\n",
       "    <td></td>       <th>coef</th>     <th>std err</th>      <th>t</th>      <th>P>|t|</th>  <th>[0.025</th>    <th>0.975]</th>  \n",
       "</tr>\n",
       "<tr>\n",
       "  <th>const</th> <td>  213.3664</td> <td>   10.893</td> <td>   19.588</td> <td> 0.000</td> <td>  191.913</td> <td>  234.820</td>\n",
       "</tr>\n",
       "<tr>\n",
       "  <th>x1</th>    <td>   -0.0360</td> <td>    0.179</td> <td>   -0.201</td> <td> 0.841</td> <td>   -0.388</td> <td>    0.316</td>\n",
       "</tr>\n",
       "<tr>\n",
       "  <th>x2</th>    <td>   -0.7305</td> <td>    0.077</td> <td>   -9.434</td> <td> 0.000</td> <td>   -0.883</td> <td>   -0.578</td>\n",
       "</tr>\n",
       "</table>\n",
       "<table class=\"simpletable\">\n",
       "<tr>\n",
       "  <th>Omnibus:</th>       <td>31.307</td> <th>  Durbin-Watson:     </th> <td>   0.230</td>\n",
       "</tr>\n",
       "<tr>\n",
       "  <th>Prob(Omnibus):</th> <td> 0.000</td> <th>  Jarque-Bera (JB):  </th> <td>  47.105</td>\n",
       "</tr>\n",
       "<tr>\n",
       "  <th>Skew:</th>          <td> 0.754</td> <th>  Prob(JB):          </th> <td>5.91e-11</td>\n",
       "</tr>\n",
       "<tr>\n",
       "  <th>Kurtosis:</th>      <td> 4.486</td> <th>  Cond. No.          </th> <td>4.24e+03</td>\n",
       "</tr>\n",
       "</table><br/><br/>Warnings:<br/>[1] Standard Errors assume that the covariance matrix of the errors is correctly specified.<br/>[2] The condition number is large, 4.24e+03. This might indicate that there are<br/>strong multicollinearity or other numerical problems."
      ],
      "text/plain": [
       "<class 'statsmodels.iolib.summary.Summary'>\n",
       "\"\"\"\n",
       "                            OLS Regression Results                            \n",
       "==============================================================================\n",
       "Dep. Variable:              Adj Close   R-squared:                       0.412\n",
       "Model:                            OLS   Adj. R-squared:                  0.407\n",
       "Method:                 Least Squares   F-statistic:                     87.24\n",
       "Date:                Mon, 08 Jun 2020   Prob (F-statistic):           1.93e-29\n",
       "Time:                        17:03:07   Log-Likelihood:                -849.62\n",
       "No. Observations:                 252   AIC:                             1705.\n",
       "Df Residuals:                     249   BIC:                             1716.\n",
       "Df Model:                           2                                         \n",
       "Covariance Type:            nonrobust                                         \n",
       "==============================================================================\n",
       "                 coef    std err          t      P>|t|      [0.025      0.975]\n",
       "------------------------------------------------------------------------------\n",
       "const        213.3664     10.893     19.588      0.000     191.913     234.820\n",
       "x1            -0.0360      0.179     -0.201      0.841      -0.388       0.316\n",
       "x2            -0.7305      0.077     -9.434      0.000      -0.883      -0.578\n",
       "==============================================================================\n",
       "Omnibus:                       31.307   Durbin-Watson:                   0.230\n",
       "Prob(Omnibus):                  0.000   Jarque-Bera (JB):               47.105\n",
       "Skew:                           0.754   Prob(JB):                     5.91e-11\n",
       "Kurtosis:                       4.486   Cond. No.                     4.24e+03\n",
       "==============================================================================\n",
       "\n",
       "Warnings:\n",
       "[1] Standard Errors assume that the covariance matrix of the errors is correctly specified.\n",
       "[2] The condition number is large, 4.24e+03. This might indicate that there are\n",
       "strong multicollinearity or other numerical problems.\n",
       "\"\"\""
      ]
     },
     "execution_count": 9,
     "metadata": {},
     "output_type": "execute_result"
    }
   ],
   "source": [
    "mlr.summary()"
   ]
  },
  {
   "cell_type": "markdown",
   "metadata": {},
   "source": [
    "## Model Assumptions\n",
    "\n",
    "The validity of these statistics depends on whether or not the assumptions of the linear regression model are satisfied. These are:\n",
    "* The independent variable is not random.\n",
    "* The variance of the error term is constant across observations. This is important for evaluating the goodness of the fit.\n",
    "* The errors are not autocorrelated. The Durbin-Watson statistic reported by the regression detects this. If it is close to $2$, there is no autocorrelation.\n",
    "* The errors are normally distributed. If this does not hold, we cannot use some of the statistics, such as the F-test.\n",
    "\n",
    "Multiple linear regression also requires an additional assumption:\n",
    "* There is no exact linear relationship between the independent variables. Otherwise, it is impossible to solve for the coefficients $\\beta_i$ uniquely, since the same linear equation can be expressed in multiple ways.\n",
    "\n",
    "If there is a linear relationship between any set of independent variables, also known as covariance, we say that they are linear combinations of each other. In the case where they are dependent on each other in this manner, the values of our $\\beta_i$ coefficients will be inaccurate for a given $X_i$. The intuition for this can be found in an exteme example where $X_1$ and $X_2$ are 100% covarying. In that case then linear regression can equivalently assign the total coefficient sum in any combination without affecting the predictive capability.\n",
    "\n",
    "$$ 1X_1 + 0X_2 = 0.5X_1 + 0.5X_2 = 0X_1 + 1X_2 $$\n",
    "\n",
    "\n",
    "While our coefficients may be nondescriptive, the ultimate model may still be accurate provided that there is a good overall fit between the independent variables and the dependent variables. The best practice for constructing a model where dependence is a problem is to leave out the less descriptive variables that are correlated with the better ones. This improves the model by reducing the chances of overfitting while bringing the $\\beta_i$ estimates closer to their true values.\n",
    "\n",
    "If we confirm that the necessary assumptions of the regression model are satisfied, we can safely use the statistics reported to analyze the fit. For example, the $R^2$ value tells us the fraction of the total variation of $Y$ that is explained by the model. When doing multiple linear regression, however, we prefer to use adjusted $R^2$, which corrects for the small increases in $R^2$ that occur when we add more regression variables to the model, even if they are not significantly correlated with the dependent variable. Adjusted $R^2$ is defined as\n",
    "\n",
    "$$ 1 - (1 - R^2)\\frac{n-1}{n-k-1} $$\n",
    "\n",
    "Where $n$ is the number of observations and $k$ is the number of independent variables in the model. Other useful statistics include the F-statistic and the standard error of estimate."
   ]
  },
  {
   "cell_type": "markdown",
   "metadata": {},
   "source": [
    "## Model Selection Example\n",
    "\n",
    "When deciding on the best possible model of your dependent variables, there are several different methods to turn to. If you use too many explanatory variables, you run the risk of overfitting your model, but if you use too few you may end up with a terrible fit. One of the most prominent methods to decide on a best model is stepwise regression. Forward stepwise regression starts from an empty model and tests each individual variable, selecting the one that results in the best model quality, usually measured with AIC or BIC (lowest is best). It then adds the remaining variables one at a time, testing each subsequent combination of explanatory variables in a regression and calculating the AIC or BIC value at each step. At the end of the regression, the model with the best quality (according to the given measure) is selected and presented as a the final, best model. This does have limitations, however. It does not test every single possible combination of variables so it may miss the theoretical best model if a particular variable was written off earlier in performing the algorithm. As such, stepwise regression should be used in combination with your best judgment regarding the model."
   ]
  },
  {
   "cell_type": "code",
   "execution_count": 10,
   "metadata": {},
   "outputs": [
    {
     "data": {
      "image/png": "[encoded data removed]",
      "text/plain": [
       "<Figure size 432x288 with 1 Axes>"
      ]
     },
     "metadata": {
      "needs_background": "light"
     },
     "output_type": "display_data"
    }
   ],
   "source": [
    "X1 = np.arange(100)\n",
    "X2 = [i**2 for i in range(100)] - X1\n",
    "X3 = [np.log(i) for i in range(1, 101)] + X2\n",
    "X4 = 5 * X1\n",
    "Y = 2 * X1 + 0.5 * X2 + 10 * X3 + X4\n",
    "\n",
    "plt.plot(X1, label='X1')\n",
    "plt.plot(X2, label='X2')\n",
    "plt.plot(X3, label='X3')\n",
    "plt.plot(X4, label='X4')\n",
    "plt.plot(Y, label='Y')\n",
    "plt.legend();"
   ]
  },
  {
   "cell_type": "code",
   "execution_count": 11,
   "metadata": {},
   "outputs": [
    {
     "name": "stdout",
     "output_type": "stream",
     "text": [
      "Beta_0:  -2.5693225325085223e-11\n",
      "Beta_1:  0.2692307692305427\n",
      "Beta_2:  0.4999999999911324\n",
      "Beta_3:  10.000000000006139\n",
      "Beta_4:  1.3461538461538396\n"
     ]
    }
   ],
   "source": [
    "results = regression.linear_model.OLS(Y, sm.add_constant(np.column_stack((X1,X2,X3,X4)))).fit()\n",
    "\n",
    "print(\"Beta_0: \", results.params[0])\n",
    "print(\"Beta_1: \", results.params[1])\n",
    "print(\"Beta_2: \", results.params[2])\n",
    "print(\"Beta_3: \", results.params[3])\n",
    "print(\"Beta_4: \", results.params[4])"
   ]
  },
  {
   "cell_type": "code",
   "execution_count": 12,
   "metadata": {},
   "outputs": [],
   "source": [
    "data = pd.DataFrame(np.column_stack((X1,X2,X3,X4)), columns = ['X1','X2','X3','X4'])\n",
    "response = pd.Series(Y, name='Y')"
   ]
  },
  {
   "cell_type": "code",
   "execution_count": 13,
   "metadata": {},
   "outputs": [],
   "source": [
    "def forward_aic(response, data):\n",
    "    # This function will work with pandas dataframes and series\n",
    "    \n",
    "    # Initialize some variables\n",
    "    explanatory = list(data.columns)\n",
    "    selected = pd.Series(np.ones(data.shape[0]), name=\"Intercept\")\n",
    "    current_score, best_new_score = np.inf, np.inf\n",
    "    \n",
    "    # Loop while we haven't found a better model\n",
    "    while current_score == best_new_score and len(explanatory) != 0:\n",
    "        \n",
    "        scores_with_elements = []\n",
    "        count = 0\n",
    "        \n",
    "        # For each explanatory variable\n",
    "        for element in explanatory:\n",
    "            # Make a set of explanatory variables including our current best and the new one\n",
    "            tmp = pd.concat([selected, data[element]], axis=1)\n",
    "            # Test the set\n",
    "            result = regression.linear_model.OLS(Y, tmp).fit()\n",
    "            score = result.aic\n",
    "            scores_with_elements.append((score, element, count))\n",
    "            count += 1\n",
    "        \n",
    "        # Sort the scoring list\n",
    "        scores_with_elements.sort(reverse = True)\n",
    "        # Get the best new variable\n",
    "        best_new_score, best_element, index = scores_with_elements.pop()\n",
    "        if current_score > best_new_score:\n",
    "            # If it's better than the best add it to the set\n",
    "            explanatory.pop(index)\n",
    "            selected = pd.concat([selected, data[best_element]],axis=1)\n",
    "            current_score = best_new_score\n",
    "    # Return the final model\n",
    "    model = regression.linear_model.OLS(Y, selected).fit()\n",
    "    return model"
   ]
  },
  {
   "cell_type": "code",
   "execution_count": 14,
   "metadata": {},
   "outputs": [
    {
     "data": {
      "text/html": [
       "<table class=\"simpletable\">\n",
       "<caption>OLS Regression Results</caption>\n",
       "<tr>\n",
       "  <th>Dep. Variable:</th>            <td>y</td>        <th>  R-squared:         </th> <td>   1.000</td> \n",
       "</tr>\n",
       "<tr>\n",
       "  <th>Model:</th>                   <td>OLS</td>       <th>  Adj. R-squared:    </th> <td>   1.000</td> \n",
       "</tr>\n",
       "<tr>\n",
       "  <th>Method:</th>             <td>Least Squares</td>  <th>  F-statistic:       </th> <td>8.784e+26</td>\n",
       "</tr>\n",
       "<tr>\n",
       "  <th>Date:</th>             <td>Mon, 08 Jun 2020</td> <th>  Prob (F-statistic):</th>  <td>  0.00</td>  \n",
       "</tr>\n",
       "<tr>\n",
       "  <th>Time:</th>                 <td>17:03:08</td>     <th>  Log-Likelihood:    </th> <td>  1752.9</td> \n",
       "</tr>\n",
       "<tr>\n",
       "  <th>No. Observations:</th>      <td>   100</td>      <th>  AIC:               </th> <td>  -3498.</td> \n",
       "</tr>\n",
       "<tr>\n",
       "  <th>Df Residuals:</th>          <td>    96</td>      <th>  BIC:               </th> <td>  -3487.</td> \n",
       "</tr>\n",
       "<tr>\n",
       "  <th>Df Model:</th>              <td>     3</td>      <th>                     </th>     <td> </td>    \n",
       "</tr>\n",
       "<tr>\n",
       "  <th>Covariance Type:</th>      <td>nonrobust</td>    <th>                     </th>     <td> </td>    \n",
       "</tr>\n",
       "</table>\n",
       "<table class=\"simpletable\">\n",
       "<tr>\n",
       "      <td></td>         <th>coef</th>     <th>std err</th>      <th>t</th>      <th>P>|t|</th>  <th>[0.025</th>    <th>0.975]</th>  \n",
       "</tr>\n",
       "<tr>\n",
       "  <th>Intercept</th> <td> 4.684e-11</td> <td> 4.16e-09</td> <td>    0.011</td> <td> 0.991</td> <td>-8.21e-09</td> <td>  8.3e-09</td>\n",
       "</tr>\n",
       "<tr>\n",
       "  <th>X3</th>        <td>   10.0000</td> <td> 2.52e-09</td> <td> 3.97e+09</td> <td> 0.000</td> <td>   10.000</td> <td>   10.000</td>\n",
       "</tr>\n",
       "<tr>\n",
       "  <th>X1</th>        <td>    0.2692</td> <td> 7.69e-12</td> <td>  3.5e+10</td> <td> 0.000</td> <td>    0.269</td> <td>    0.269</td>\n",
       "</tr>\n",
       "<tr>\n",
       "  <th>X2</th>        <td>    0.5000</td> <td> 2.52e-09</td> <td> 1.99e+08</td> <td> 0.000</td> <td>    0.500</td> <td>    0.500</td>\n",
       "</tr>\n",
       "<tr>\n",
       "  <th>X4</th>        <td>    1.3462</td> <td> 3.85e-11</td> <td>  3.5e+10</td> <td> 0.000</td> <td>    1.346</td> <td>    1.346</td>\n",
       "</tr>\n",
       "</table>\n",
       "<table class=\"simpletable\">\n",
       "<tr>\n",
       "  <th>Omnibus:</th>       <td>14.003</td> <th>  Durbin-Watson:     </th> <td>   0.001</td>\n",
       "</tr>\n",
       "<tr>\n",
       "  <th>Prob(Omnibus):</th> <td> 0.001</td> <th>  Jarque-Bera (JB):  </th> <td>  10.024</td>\n",
       "</tr>\n",
       "<tr>\n",
       "  <th>Skew:</th>          <td> 0.651</td> <th>  Prob(JB):          </th> <td> 0.00666</td>\n",
       "</tr>\n",
       "<tr>\n",
       "  <th>Kurtosis:</th>      <td> 2.156</td> <th>  Cond. No.          </th> <td>5.01e+17</td>\n",
       "</tr>\n",
       "</table><br/><br/>Warnings:<br/>[1] Standard Errors assume that the covariance matrix of the errors is correctly specified.<br/>[2] The smallest eigenvalue is 1.52e-26. This might indicate that there are<br/>strong multicollinearity problems or that the design matrix is singular."
      ],
      "text/plain": [
       "<class 'statsmodels.iolib.summary.Summary'>\n",
       "\"\"\"\n",
       "                            OLS Regression Results                            \n",
       "==============================================================================\n",
       "Dep. Variable:                      y   R-squared:                       1.000\n",
       "Model:                            OLS   Adj. R-squared:                  1.000\n",
       "Method:                 Least Squares   F-statistic:                 8.784e+26\n",
       "Date:                Mon, 08 Jun 2020   Prob (F-statistic):               0.00\n",
       "Time:                        17:03:08   Log-Likelihood:                 1752.9\n",
       "No. Observations:                 100   AIC:                            -3498.\n",
       "Df Residuals:                      96   BIC:                            -3487.\n",
       "Df Model:                           3                                         \n",
       "Covariance Type:            nonrobust                                         \n",
       "==============================================================================\n",
       "                 coef    std err          t      P>|t|      [0.025      0.975]\n",
       "------------------------------------------------------------------------------\n",
       "Intercept   4.684e-11   4.16e-09      0.011      0.991   -8.21e-09     8.3e-09\n",
       "X3            10.0000   2.52e-09   3.97e+09      0.000      10.000      10.000\n",
       "X1             0.2692   7.69e-12    3.5e+10      0.000       0.269       0.269\n",
       "X2             0.5000   2.52e-09   1.99e+08      0.000       0.500       0.500\n",
       "X4             1.3462   3.85e-11    3.5e+10      0.000       1.346       1.346\n",
       "==============================================================================\n",
       "Omnibus:                       14.003   Durbin-Watson:                   0.001\n",
       "Prob(Omnibus):                  0.001   Jarque-Bera (JB):               10.024\n",
       "Skew:                           0.651   Prob(JB):                      0.00666\n",
       "Kurtosis:                       2.156   Cond. No.                     5.01e+17\n",
       "==============================================================================\n",
       "\n",
       "Warnings:\n",
       "[1] Standard Errors assume that the covariance matrix of the errors is correctly specified.\n",
       "[2] The smallest eigenvalue is 1.52e-26. This might indicate that there are\n",
       "strong multicollinearity problems or that the design matrix is singular.\n",
       "\"\"\""
      ]
     },
     "execution_count": 14,
     "metadata": {},
     "output_type": "execute_result"
    }
   ],
   "source": [
    "result = forward_aic(Y, data)\n",
    "result.summary()"
   ]
  },
  {
   "cell_type": "markdown",
   "metadata": {},
   "source": [
    "In the construction of this model, the $X_4$ term is highly closely related to the $X1$ term, simply multiplying it by a scalar. However, stepwise regression did not catch this and remove the variable and simply adjust the coefficient of the $X_1$ term. Our own judgment would say to leave the $X_4$ term out of the model, showing the limitations of stepwise regression.\n",
    "\n",
    "There are other ways to diagnose the health of a model and individual variables with varying degrees of penalty given to more complex models. This will be covered in-depth in a model selection notebook."
   ]
  }
 ],
 "metadata": {
  "kernelspec": {
   "display_name": "Python 3",
   "language": "python",
   "name": "python3"
  },
  "language_info": {
   "codemirror_mode": {
    "name": "ipython",
    "version": 3
   },
   "file_extension": ".py",
   "mimetype": "text/x-python",
   "name": "python",
   "nbconvert_exporter": "python",
   "pygments_lexer": "ipython3",
   "version": "3.7.3"
  }
 },
 "nbformat": 4,
 "nbformat_minor": 2
}
